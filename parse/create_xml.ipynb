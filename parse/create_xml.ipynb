{
 "cells": [
  {
   "cell_type": "code",
   "execution_count": 11,
   "metadata": {},
   "outputs": [],
   "source": [
    "#import xml.etree.ElementTree as ET\n",
    "from lxml import etree as ET\n",
    "OUTPUT_DIR = r'D:\\Project\\jupyter\\project\\parse_xml\\xml'"
   ]
  },
  {
   "cell_type": "code",
   "execution_count": 12,
   "metadata": {
    "scrolled": true
   },
   "outputs": [],
   "source": [
    " def create_xml():\n",
    "    root = ET.Element('annotation')\n",
    "    folder = ET.SubElement(root, 'folder')\n",
    "    folder.text = 'hudie'\n",
    "    filename = ET.SubElement(root, 'filename')\n",
    "    filename.text = 'IMG_000001.jpg'\n",
    "    path = ET.SubElement(root, 'path')\n",
    "    path.text = r'C:\\Users\\zqq\\Desktop\\hudie\\IMG_000001.jpg'\n",
    "    source = ET.SubElement(root, 'source')\n",
    "    database = ET.SubElement(source, 'database')\n",
    "    database.text = 'unknown'\n",
    "    size = ET.SubElement(root, 'size')\n",
    "    width = ET.SubElement(size, 'width')\n",
    "    width.text = '10000'\n",
    "    height = ET.SubElement(size, 'height')\n",
    "    height.text = '20000'\n",
    "    depth = ET.SubElement(size, 'depth')\n",
    "    depth.text = '3'\n",
    "    segmented = ET.SubElement(root, 'segmented')\n",
    "    segmented.text = '0'\n",
    "    object = ET.SubElement(root, 'object')\n",
    "    name = ET.SubElement(object, 'name')\n",
    "    name.text = '雅弄蝶'\n",
    "    pose = ET.SubElement(object, 'pose')\n",
    "    pose.text = 'unspecified'\n",
    "    truncated = ET.SubElement(object, 'truncated')\n",
    "    truncated.text = '0' \n",
    "    difficult = ET.SubElement(object, 'difficult')\n",
    "    difficult.text = '0'\n",
    "    bndbox = ET.SubElement(object, 'bndbox')\n",
    "    xmin = ET.SubElement(bndbox, 'xmin')\n",
    "    xmin.text = '10' \n",
    "    ymin = ET.SubElement(bndbox, 'ymin')\n",
    "    ymin.text = '20'\n",
    "    xmax = ET.SubElement(bndbox, 'xmax')\n",
    "    xmax.text = '30'\n",
    "    ymax = ET.SubElement(bndbox, 'ymax')\n",
    "    ymin.text = '40'\n",
    "    ET.dump(root)\n",
    "    tree = ET.ElementTree(root)\n",
    "    output = OUTPUT_DIR + '\\\\' + 'output.xml'\n",
    "    tree.write(output, pretty_print = True, xml_declaration=True, encoding='UTF-8')\n",
    "#     tree.write('output.xml', pretty_print = True, xml_declaration=True, encoding='UTF-8')\n",
    "    #tree.write('output.xml', pretty_print = True)"
   ]
  },
  {
   "cell_type": "code",
   "execution_count": null,
   "metadata": {},
   "outputs": [],
   "source": [
    "tree = ET.parse('output.xml')\n",
    "root = tree.getroot()\n",
    "object = root.find('object')\n",
    "name = object.find('name').text\n",
    "print(name)"
   ]
  },
  {
   "cell_type": "code",
   "execution_count": 13,
   "metadata": {},
   "outputs": [
    {
     "name": "stdout",
     "output_type": "stream",
     "text": [
      "<annotation>\n",
      "  <folder>hudie</folder>\n",
      "  <filename>IMG_000001.jpg</filename>\n",
      "  <path>C:\\Users\\zqq\\Desktop\\hudie\\IMG_000001.jpg</path>\n",
      "  <source>\n",
      "    <database>unknown</database>\n",
      "  </source>\n",
      "  <size>\n",
      "    <width>10000</width>\n",
      "    <height>20000</height>\n",
      "    <depth>3</depth>\n",
      "  </size>\n",
      "  <segmented>0</segmented>\n",
      "  <object>\n",
      "    <name>雅弄蝶</name>\n",
      "    <pose>unspecified</pose>\n",
      "    <truncated>0</truncated>\n",
      "    <difficult>0</difficult>\n",
      "    <bndbox>\n",
      "      <xmin>10</xmin>\n",
      "      <ymin>40</ymin>\n",
      "      <xmax>30</xmax>\n",
      "      <ymax/>\n",
      "    </bndbox>\n",
      "  </object>\n",
      "</annotation>\n"
     ]
    }
   ],
   "source": [
    "create_xml()"
   ]
  },
  {
   "cell_type": "code",
   "execution_count": null,
   "metadata": {},
   "outputs": [],
   "source": []
  }
 ],
 "metadata": {
  "kernelspec": {
   "display_name": "Python 3",
   "language": "python",
   "name": "python3"
  },
  "language_info": {
   "codemirror_mode": {
    "name": "ipython",
    "version": 3
   },
   "file_extension": ".py",
   "mimetype": "text/x-python",
   "name": "python",
   "nbconvert_exporter": "python",
   "pygments_lexer": "ipython3",
   "version": "3.6.4"
  }
 },
 "nbformat": 4,
 "nbformat_minor": 2
}
