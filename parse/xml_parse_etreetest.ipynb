{
 "cells": [
  {
   "cell_type": "code",
   "execution_count": 1,
   "metadata": {},
   "outputs": [],
   "source": [
    "import xml.etree.ElementTree as ET\n",
    "import os"
   ]
  },
  {
   "cell_type": "code",
   "execution_count": 8,
   "metadata": {},
   "outputs": [],
   "source": [
    "def xml_parse(filepath):\n",
    "    tree = ET.parse(filepath)\n",
    "    root = tree.getroot()\n",
    "    object = root.find('object')\n",
    "    name = object.find('name').text\n",
    "    return name"
   ]
  },
  {
   "cell_type": "code",
   "execution_count": 2,
   "metadata": {},
   "outputs": [],
   "source": [
    "def xml_modify(filepath,dict):\n",
    "    tree = ET.parse(filepath)\n",
    "    root = tree.getroot()\n",
    "    object = root.find('object')\n",
    "    name = object.find('name')\n",
    "    name.text = dict[name.text]\n",
    "    tree.write(filepath)"
   ]
  },
  {
   "cell_type": "code",
   "execution_count": null,
   "metadata": {},
   "outputs": [],
   "source": [
    "#xml_modify('IMG_000016.xml',dict)"
   ]
  },
  {
   "cell_type": "code",
   "execution_count": 15,
   "metadata": {},
   "outputs": [],
   "source": [
    "def count_butterfly():\n",
    "    input_dir = r'D:\\Project\\第三届中国数据挖掘大赛-蝴蝶训练集\\第三届中国数据挖掘大赛-蝴蝶训练集\\Annotations'\n",
    "    #input_dir =  r'D:\\Project\\jupyter\\project\\parse_xml\\Annotations'\n",
    "    filenamelist = os.listdir(input_dir)\n",
    "    #print(filepathlist)\n",
    "    dict = {}\n",
    "    for filename in filenamelist:\n",
    "        filepath = input_dir + '\\\\' + filename\n",
    "        name = xml_parse(filepath)\n",
    "        if name in dict:\n",
    "            dict[name] += 1\n",
    "        else:\n",
    "            dict[name] = 1\n",
    "    for name, n in dict.items():\n",
    "        print(name,':',n)\n",
    "    #print(dict['依帕绢蝶'])\n",
    "    print(len(dict))\n",
    "    "
   ]
  },
  {
   "cell_type": "code",
   "execution_count": 16,
   "metadata": {},
   "outputs": [
    {
     "name": "stdout",
     "output_type": "stream",
     "text": [
      "巴黎翠凤蝶 : 23\n",
      "柑橘凤蝶 : 23\n",
      "玉带凤蝶 : 1\n",
      "碧凤蝶 : 43\n",
      "红基美凤蝶 : 21\n",
      "蓝凤蝶 : 10\n",
      "金裳凤蝶 : 3\n",
      "青凤蝶 : 8\n",
      "朴喙蝶 : 3\n",
      "密纹飒弄蝶 : 2\n",
      "小黄斑弄蝶 : 2\n",
      "无斑珂弄蝶 : 4\n",
      "直纹稻弄蝶 : 7\n",
      "花弄蝶 : 18\n",
      "隐纹谷弄蝶 : 4\n",
      "绢斑蝶 : 1\n",
      "虎斑蝶 : 1\n",
      "亮灰蝶 : 9\n",
      "咖灰蝶 : 3\n",
      "大紫琉璃灰蝶 : 25\n",
      "婀灰蝶 : 10\n",
      "曲纹紫灰蝶 : 3\n",
      "波太玄灰蝶 : 9\n",
      "玄灰蝶 : 2\n",
      "红灰蝶 : 7\n",
      "线灰蝶 : 11\n",
      "维纳斯眼灰蝶 : 1\n",
      "艳灰蝶 : 2\n",
      "蓝灰蝶 : 5\n",
      "青海红珠灰蝶 : 6\n",
      "古北拟酒眼蝶 : 3\n",
      "阿芬眼蝶 : 35\n",
      "拟稻眉眼蝶 : 2\n",
      "牧女珍眼蝶 : 8\n",
      "白眼蝶 : 9\n",
      "菩萨酒眼蝶 : 1\n",
      "西门珍眼蝶 : 2\n",
      "边纹黛眼蝶 : 1\n",
      "云粉蝶 : 3\n",
      "侏粉蝶 : 1\n",
      "大卫粉蝶 : 6\n",
      "大翅绢粉蝶 : 5\n",
      "宽边黄粉蝶 : 22\n",
      "山豆粉蝶 : 1\n",
      "橙黄豆粉蝶 : 2\n",
      "突角小粉蝶 : 5\n",
      "箭纹云粉蝶 : 3\n",
      "箭纹绢粉蝶 : 5\n",
      "红襟粉蝶 : 1\n",
      "绢粉蝶 : 2\n",
      "菜粉蝶 : 4\n",
      "镉黄迁粉蝶 : 2\n",
      "黎明豆粉蝶 : 2\n",
      "依帕绢蝶 : 2\n",
      "四川绢蝶 : 1\n",
      "珍珠绢蝶 : 3\n",
      "蛇目褐蚬蝶 : 13\n",
      "中环蛱蝶 : 1\n",
      "云豹蛱蝶 : 3\n",
      "伊诺小豹蛱蝶 : 8\n",
      "小红蛱蝶 : 3\n",
      "扬眉线蛱蝶 : 35\n",
      "斐豹蛱蝶 : 1\n",
      "曲斑珠蛱蝶 : 2\n",
      "柱菲蛱蝶 : 4\n",
      "柳紫闪蛱蝶 : 5\n",
      "灿福蛱蝶 : 6\n",
      "玄珠带蛱蝶 : 2\n",
      "珍蛱蝶 : 2\n",
      "琉璃蛱蝶 : 3\n",
      "白钩蛱蝶 : 1\n",
      "秀蛱蝶 : 4\n",
      "绢蛱蝶 : 3\n",
      "绿豹蛱蝶 : 5\n",
      "网蛱蝶 : 7\n",
      "美眼蛱蝶 : 2\n",
      "翠蓝眼蛱蝶 : 4\n",
      "老豹蛱蝶 : 5\n",
      "荨麻蛱蝶 : 5\n",
      "虬眉带蛱蝶 : 2\n",
      "蟾福蛱蝶 : 4\n",
      "钩翅眼蛱蝶 : 2\n",
      "银斑豹蛱蝶 : 61\n",
      "银豹蛱蝶 : 2\n",
      "链环蛱蝶 : 2\n",
      "锦瑟蛱蝶 : 1\n",
      "黄环蛱蝶 : 13\n",
      "黄钩蛱蝶 : 20\n",
      "黑网蛱蝶 : 1\n",
      "尖翅翠蛱蝶 : 7\n",
      "素弄蝶 : 26\n",
      "翠袖锯眼蝶 : 28\n",
      "蓝点紫斑蝶 : 10\n",
      "雅弄蝶 : 20\n",
      "94\n"
     ]
    }
   ],
   "source": [
    "count_butterfly()"
   ]
  },
  {
   "cell_type": "code",
   "execution_count": 6,
   "metadata": {},
   "outputs": [],
   "source": [
    "def modify_name():\n",
    "    input_dir = r'D:\\Project\\jupyter\\project\\parse_xml\\Annotations'\n",
    "    dict = get_dict()\n",
    "    filelist = os.listdir(input_dir)\n",
    "    for name in filelist:\n",
    "        cur_filepath = os.sep.join([input_dir, name])\n",
    "        #print(cur_filepath)\n",
    "        xml_modify(cur_filepath, dict)\n",
    "    print('Done!')"
   ]
  },
  {
   "cell_type": "code",
   "execution_count": 7,
   "metadata": {},
   "outputs": [
    {
     "name": "stdout",
     "output_type": "stream",
     "text": [
      "Done!\n"
     ]
    }
   ],
   "source": [
    "modify_name()"
   ]
  },
  {
   "cell_type": "code",
   "execution_count": null,
   "metadata": {
    "scrolled": true
   },
   "outputs": [],
   "source": [
    "#if __name__ == 'main':\n",
    "##main()"
   ]
  },
  {
   "cell_type": "code",
   "execution_count": 4,
   "metadata": {},
   "outputs": [],
   "source": [
    "def get_dict():\n",
    "    dict = {}\n",
    "    with open('dictionary.txt', 'r') as fp:\n",
    "        line = fp.readline()\n",
    "        while line:\n",
    "            linelist = line.split()\n",
    "            dict[linelist[0]] = linelist[1]\n",
    "            line = fp.readline()\n",
    "    #print('Done!')\n",
    "    return dict"
   ]
  },
  {
   "cell_type": "code",
   "execution_count": null,
   "metadata": {},
   "outputs": [],
   "source": [
    "len(dict)"
   ]
  },
  {
   "cell_type": "code",
   "execution_count": null,
   "metadata": {},
   "outputs": [],
   "source": [
    "tree = ET.parse('output.xml')\n",
    "root = tree.getroot()\n",
    "object = root.find('object')\n",
    "name = object.find('name').text\n",
    "print(name)"
   ]
  },
  {
   "cell_type": "code",
   "execution_count": null,
   "metadata": {},
   "outputs": [],
   "source": []
  }
 ],
 "metadata": {
  "kernelspec": {
   "display_name": "Python 3",
   "language": "python",
   "name": "python3"
  },
  "language_info": {
   "codemirror_mode": {
    "name": "ipython",
    "version": 3
   },
   "file_extension": ".py",
   "mimetype": "text/x-python",
   "name": "python",
   "nbconvert_exporter": "python",
   "pygments_lexer": "ipython3",
   "version": "3.6.4"
  }
 },
 "nbformat": 4,
 "nbformat_minor": 2
}
