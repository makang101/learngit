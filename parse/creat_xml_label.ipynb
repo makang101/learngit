{
 "cells": [
  {
   "cell_type": "code",
   "execution_count": 27,
   "metadata": {},
   "outputs": [],
   "source": [
    "#import xml.etree.ElementTree as ET\n",
    "import os.path\n",
    "from lxml import etree as ET\n",
    "import xml_parse_etreetest\n",
    "OUTPUT_DIR = r'D:\\Project\\jupyter\\project\\parse_xml\\xml'"
   ]
  },
  {
   "cell_type": "code",
   "execution_count": 23,
   "metadata": {},
   "outputs": [],
   "source": [
    "#def create_xml(filename_0, butterfly_name, width_0, height_0, xmin_0 , ymin_0, xmax_0, ymax_0):\n",
    "def create_xml(filename_0, butterfly_name, xmin_0 , ymin_0, xmax_0, ymax_0):\n",
    "    (shotname,extension) = os.path.splitext(filename_0)\n",
    "    output = OUTPUT_DIR + '\\\\' + shotname + '.xml'\n",
    "    root = ET.Element('annotation')\n",
    "    folder = ET.SubElement(root, 'folder')\n",
    "    folder.text = 'hudie'\n",
    "    filename = ET.SubElement(root, 'filename')\n",
    "    #filename.text = 'IMG_000001.jpg'\n",
    "    filename.text = filename_0\n",
    "    path = ET.SubElement(root, 'path')\n",
    "    #path.text = r'C:\\Users\\zqq\\Desktop\\hudie\\IMG_000001.jpg'\n",
    "    path.text = output\n",
    "    source = ET.SubElement(root, 'source')\n",
    "    database = ET.SubElement(source, 'database')\n",
    "    database.text = 'unknown'\n",
    "    size = ET.SubElement(root, 'size')\n",
    "    width = ET.SubElement(size, 'width')\n",
    "    width.text = '10000'\n",
    "    height = ET.SubElement(size, 'height')\n",
    "    height.text = '20000'\n",
    "    depth = ET.SubElement(size, 'depth')\n",
    "    depth.text = '3'\n",
    "    segmented = ET.SubElement(root, 'segmented')\n",
    "    segmented.text = '0'\n",
    "    object = ET.SubElement(root, 'object')\n",
    "    name = ET.SubElement(object, 'name')\n",
    "    #name.text = '雅弄蝶'\n",
    "    name.text = butterfly_name\n",
    "    pose = ET.SubElement(object, 'pose')\n",
    "    pose.text = 'unspecified'\n",
    "    truncated = ET.SubElement(object, 'truncated')\n",
    "    truncated.text = '0' \n",
    "    difficult = ET.SubElement(object, 'difficult')\n",
    "    difficult.text = '0'\n",
    "    bndbox = ET.SubElement(object, 'bndbox')\n",
    "    xmin = ET.SubElement(bndbox, 'xmin')\n",
    "    #xmin.text = '10' \n",
    "    xmin.text = xmin_0\n",
    "    ymin = ET.SubElement(bndbox, 'ymin')\n",
    "    #ymin.text = '20'\n",
    "    ymin.text = ymin_0\n",
    "    xmax = ET.SubElement(bndbox, 'xmax')\n",
    "    #xmax.text = '30'\n",
    "    xmax.text = xmax_0\n",
    "    ymax = ET.SubElement(bndbox, 'ymax')\n",
    "    #ymax.text = '40'\n",
    "    ymax.text = ymax_0\n",
    "    #ET.dump(root)\n",
    "    tree = ET.ElementTree(root)\n",
    "    tree.write(output, pretty_print = True, xml_declaration=True, encoding='UTF-8')\n",
    "    #tree.write('output.xml', pretty_print = True)"
   ]
  },
  {
   "cell_type": "code",
   "execution_count": 30,
   "metadata": {},
   "outputs": [],
   "source": [
    "#  没有格式\n",
    "import xml.etree.ElementTree as ET\n",
    "#创建根节点\n",
    "a = ET.Element(\"root\")\n",
    "#创建子节点，并添加属性\n",
    "b = ET.SubElement(a,\"sub1\")\n",
    "b.attrib = {\"name\":\"name attribute\"}\n",
    "#创建子节点，并添加数据\n",
    "c = ET.SubElement(a,\"sub2\")\n",
    "c.text = \"test\"\n",
    "\n",
    "#创建elementtree对象，写文件\n",
    "tree = ET.ElementTree(a)\n",
    "tree.write(\"test.xml\", encoding = 'utf-8', xml_declaration = True)"
   ]
  },
  {
   "cell_type": "code",
   "execution_count": 25,
   "metadata": {},
   "outputs": [
    {
     "ename": "IndexError",
     "evalue": "list index out of range",
     "output_type": "error",
     "traceback": [
      "\u001b[1;31m---------------------------------------------------------------------------\u001b[0m",
      "\u001b[1;31mIndexError\u001b[0m                                Traceback (most recent call last)",
      "\u001b[1;32m<ipython-input-25-b1e87b26fc80>\u001b[0m in \u001b[0;36m<module>\u001b[1;34m()\u001b[0m\n\u001b[0;32m      4\u001b[0m         \u001b[0mline_content\u001b[0m \u001b[1;33m=\u001b[0m \u001b[0mf\u001b[0m\u001b[1;33m.\u001b[0m\u001b[0mreadline\u001b[0m\u001b[1;33m(\u001b[0m\u001b[1;33m)\u001b[0m\u001b[1;33m\u001b[0m\u001b[0m\n\u001b[0;32m      5\u001b[0m         \u001b[0mlist\u001b[0m \u001b[1;33m=\u001b[0m \u001b[0mline_content\u001b[0m\u001b[1;33m.\u001b[0m\u001b[0msplit\u001b[0m\u001b[1;33m(\u001b[0m\u001b[1;33m)\u001b[0m\u001b[1;33m\u001b[0m\u001b[0m\n\u001b[1;32m----> 6\u001b[1;33m         \u001b[0mxmax\u001b[0m \u001b[1;33m=\u001b[0m \u001b[0mint\u001b[0m\u001b[1;33m(\u001b[0m\u001b[0mlist\u001b[0m\u001b[1;33m[\u001b[0m\u001b[1;36m3\u001b[0m\u001b[1;33m]\u001b[0m\u001b[1;33m)\u001b[0m \u001b[1;33m+\u001b[0m \u001b[0mint\u001b[0m\u001b[1;33m(\u001b[0m\u001b[0mlist\u001b[0m\u001b[1;33m[\u001b[0m\u001b[1;36m5\u001b[0m\u001b[1;33m]\u001b[0m\u001b[1;33m)\u001b[0m\u001b[1;33m\u001b[0m\u001b[0m\n\u001b[0m\u001b[0;32m      7\u001b[0m         \u001b[0mymax\u001b[0m \u001b[1;33m=\u001b[0m \u001b[0mint\u001b[0m\u001b[1;33m(\u001b[0m\u001b[0mlist\u001b[0m\u001b[1;33m[\u001b[0m\u001b[1;36m4\u001b[0m\u001b[1;33m]\u001b[0m\u001b[1;33m)\u001b[0m \u001b[1;33m+\u001b[0m \u001b[0mint\u001b[0m\u001b[1;33m(\u001b[0m\u001b[0mlist\u001b[0m\u001b[1;33m[\u001b[0m\u001b[1;36m6\u001b[0m\u001b[1;33m]\u001b[0m\u001b[1;33m)\u001b[0m\u001b[1;33m\u001b[0m\u001b[0m\n\u001b[0;32m      8\u001b[0m         \u001b[1;31m#print(str(xmax))\u001b[0m\u001b[1;33m\u001b[0m\u001b[1;33m\u001b[0m\u001b[0m\n",
      "\u001b[1;31mIndexError\u001b[0m: list index out of range"
     ]
    }
   ],
   "source": [
    "with open('Annotations.txt', 'r') as f:\n",
    "    #line_content = f.readline()\n",
    "    while True:\n",
    "        line_content = f.readline()\n",
    "        list = line_content.split()\n",
    "        xmax = int(list[3]) + int(list[5])\n",
    "        ymax = int(list[4]) + int(list[6])\n",
    "        #print(str(xmax))\n",
    "        create_xml(list[1], list[2], list[3], list[4], str(xmax), str(ymax))\n",
    "       # line_content = f.readline()\n",
    "#print(\"Done!\")"
   ]
  },
  {
   "cell_type": "code",
   "execution_count": 15,
   "metadata": {},
   "outputs": [
    {
     "name": "stdout",
     "output_type": "stream",
     "text": [
      "['F:\\\\data\\\\IMG00001.jpg', 'IMG00001.jpg', 'AAaa0001002', '531', '236', '1614', '1798']\n",
      "IMG00001\n"
     ]
    }
   ],
   "source": [
    "with open('Annotations.txt', 'r') as f:\n",
    "    line_content = f.readline() \n",
    "    list = line_content.split()\n",
    "    print(list)\n",
    "    xmax = int(list[3]) + int(list[5])\n",
    "    ymax = int(list[4]) + int(list[6])\n",
    "    #print(str(xmax))\n",
    "    filename = list[1]\n",
    "    (shotname,extension) = os.path.splitext(filename)\n",
    "    print(shotname)\n",
    "    create_xml(list[1], list[2], list[3], list[4], str(xmax), str(ymax))"
   ]
  }
 ],
 "metadata": {
  "kernelspec": {
   "display_name": "Python 3",
   "language": "python",
   "name": "python3"
  },
  "language_info": {
   "codemirror_mode": {
    "name": "ipython",
    "version": 3
   },
   "file_extension": ".py",
   "mimetype": "text/x-python",
   "name": "python",
   "nbconvert_exporter": "python",
   "pygments_lexer": "ipython3",
   "version": "3.6.4"
  }
 },
 "nbformat": 4,
 "nbformat_minor": 2
}
